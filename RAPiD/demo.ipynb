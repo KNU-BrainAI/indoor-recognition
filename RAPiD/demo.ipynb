{
 "cells": [
  {
   "cell_type": "code",
   "execution_count": 1,
   "metadata": {},
   "outputs": [],
   "source": [
    "%matplotlib inline\n",
    "import matplotlib.pyplot as plt\n",
    "\n",
    "from api import Detector"
   ]
  },
  {
   "cell_type": "code",
   "execution_count": 3,
   "metadata": {},
   "outputs": [
    {
     "name": "stdout",
     "output_type": "stream",
     "text": [
      "Using backbone Darknet-53. Loading ImageNet weights....\n",
      "Number of parameters in backbone: 40584928\n",
      "Successfully initialized model rapid. Total number of trainable parameters: 61523734\n",
      "Successfully loaded weights: ./weights/rapid_pL1_dark53_HBCP480_Sep05_14000.ckpt\n",
      "Using CUDA...\n"
     ]
    }
   ],
   "source": [
    "# weights can be downloaded from\n",
    "# https://github.com/duanzhiihao/RAPiD/releases/download/v0.1/pL1_MWHB608_Mar11_4500.ckpt\n",
    "detector = Detector(model_name='rapid',\n",
    "                    weights_path='./weights/rapid_pL1_dark53_HBCP480_Sep05_14000.ckpt',\n",
    "                    use_cuda=True)"
   ]
  },
  {
   "cell_type": "code",
   "execution_count": 12,
   "metadata": {},
   "outputs": [
    {
     "name": "stderr",
     "output_type": "stream",
     "text": [
      "100%|██████████| 163/163 [00:01<00:00, 81.77it/s]\n"
     ]
    }
   ],
   "source": [
    "from glob import glob\n",
    "from tqdm import tqdm\n",
    "import os\n",
    "\n",
    "# image_folder_list = glob('/home/user/4TB/hwlee/COSSY/Lab1/*')\n",
    "image_folder_list = glob('/home/hwlee/Aircon/RAPiD/images/new_data_480/*')\n",
    "\n",
    "output_directory = './Runs/new_data_480/'\n",
    "if not os.path.exists(output_directory):\n",
    "    os.makedirs(output_directory)\n",
    "\n",
    "cnt = []\n",
    "for img_file in tqdm(image_folder_list):\n",
    "    im = detector.detect_one(img_path=img_file, return_img=False,\n",
    "                             input_size=480, conf_thres=0.2269, test_aug=False, )\n",
    "    # Save the image\n",
    "    output_path = os.path.join(output_directory, img_file.split('/')[-1])\n",
    "    # plt.imsave(output_path, im)\n",
    "    cnt.append(len(im))"
   ]
  },
  {
   "cell_type": "code",
   "execution_count": 13,
   "metadata": {},
   "outputs": [],
   "source": [
    "import pandas as pd\n",
    "df = pd.DataFrame(cnt)\n",
    "df.to_csv('new_data_480.csv', index=False, header=False)"
   ]
  },
  {
   "cell_type": "code",
   "execution_count": 11,
   "metadata": {},
   "outputs": [
    {
     "name": "stderr",
     "output_type": "stream",
     "text": [
      "  0%|          | 0/163 [00:00<?, ?it/s]"
     ]
    },
    {
     "name": "stderr",
     "output_type": "stream",
     "text": [
      "100%|██████████| 163/163 [00:00<00:00, 504.25it/s]\n",
      "OpenCV: FFMPEG: tag 0x58564944/'DIVX' is not supported with codec id 12 and format 'mp4 / MP4 (MPEG-4 Part 14)'\n",
      "OpenCV: FFMPEG: fallback to use tag 0x7634706d/'mp4v'\n"
     ]
    },
    {
     "name": "stdout",
     "output_type": "stream",
     "text": [
      "(480, 480)\n"
     ]
    },
    {
     "name": "stderr",
     "output_type": "stream",
     "text": [
      "100%|██████████| 163/163 [00:00<00:00, 681.48it/s]\n"
     ]
    }
   ],
   "source": [
    "# './Runs/new_data/'내의 이미지를 동영상으로 저장\n",
    "import cv2\n",
    "import os\n",
    "\n",
    "img_array = []\n",
    "for filename in tqdm(sorted(glob('./Runs/new_data_480/*.jpg'))):\n",
    "    img = cv2.imread(filename)\n",
    "    height, width, layers = img.shape\n",
    "    size = (width, height)\n",
    "    img_array.append(img)\n",
    "print(size)\n",
    "out = cv2.VideoWriter('./Runs/new_data_480.mp4', cv2.VideoWriter_fourcc(*'DIVX'), 5, size)\n",
    "\n",
    "for i in tqdm(range(len(img_array))):\n",
    "    out.write(img_array[i])\n",
    "out.release()\n"
   ]
  }
 ],
 "metadata": {
  "kernelspec": {
   "display_name": "Python 3",
   "language": "python",
   "name": "python3"
  },
  "language_info": {
   "codemirror_mode": {
    "name": "ipython",
    "version": 3
   },
   "file_extension": ".py",
   "mimetype": "text/x-python",
   "name": "python",
   "nbconvert_exporter": "python",
   "pygments_lexer": "ipython3",
   "version": "3.8.17"
  }
 },
 "nbformat": 4,
 "nbformat_minor": 2
}
